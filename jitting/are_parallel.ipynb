{
 "cells": [
  {
   "cell_type": "code",
   "execution_count": 7,
   "metadata": {},
   "outputs": [
    {
     "ename": "ConcretizationTypeError",
     "evalue": "Abstract tracer value encountered where concrete value is expected: Traced<ShapedArray(bool[])>with<DynamicJaxprTrace(level=0/1)>\nThe problem arose with the `bool` function. \nWhile tracing the function are_parallel at /tmp/ipykernel_584052/200403503.py:6 for jit, this concrete value was not available in Python because it depends on the values of the argument passed at flattened positions [0, 1].\n\nSee https://jax.readthedocs.io/en/latest/errors.html#jax.errors.ConcretizationTypeError",
     "output_type": "error",
     "traceback": [
      "\u001b[0;31m---------------------------------------------------------------------------\u001b[0m",
      "\u001b[0;31mConcretizationTypeError\u001b[0m                   Traceback (most recent call last)",
      "\u001b[1;32m/home/aj/src/cglwn/jax_onenormest/jitting/are_parallel.ipynb Cell 1\u001b[0m in \u001b[0;36m<module>\u001b[0;34m\u001b[0m\n\u001b[1;32m     <a href='vscode-notebook-cell://wsl%2Bubuntu-20.04/home/aj/src/cglwn/jax_onenormest/jitting/are_parallel.ipynb#ch0000000vscode-remote?line=10'>11</a>\u001b[0m u \u001b[39m=\u001b[39m jnp\u001b[39m.\u001b[39marray([\u001b[39m1\u001b[39m, \u001b[39m1\u001b[39m])\n\u001b[1;32m     <a href='vscode-notebook-cell://wsl%2Bubuntu-20.04/home/aj/src/cglwn/jax_onenormest/jitting/are_parallel.ipynb#ch0000000vscode-remote?line=11'>12</a>\u001b[0m v \u001b[39m=\u001b[39m jnp\u001b[39m.\u001b[39marray([\u001b[39m1\u001b[39m, \u001b[39m-\u001b[39m\u001b[39m1\u001b[39m])\n\u001b[0;32m---> <a href='vscode-notebook-cell://wsl%2Bubuntu-20.04/home/aj/src/cglwn/jax_onenormest/jitting/are_parallel.ipynb#ch0000000vscode-remote?line=12'>13</a>\u001b[0m jit(are_parallel, static_argnames\u001b[39m=\u001b[39;49m(\u001b[39m\"\u001b[39;49m\u001b[39mn\u001b[39;49m\u001b[39m\"\u001b[39;49m))(u, v, \u001b[39m2\u001b[39;49m)\n",
      "    \u001b[0;31m[... skipping hidden 14 frame]\u001b[0m\n",
      "\u001b[1;32m/home/aj/src/cglwn/jax_onenormest/jitting/are_parallel.ipynb Cell 1\u001b[0m in \u001b[0;36mare_parallel\u001b[0;34m(u, v, n)\u001b[0m\n\u001b[1;32m      <a href='vscode-notebook-cell://wsl%2Bubuntu-20.04/home/aj/src/cglwn/jax_onenormest/jitting/are_parallel.ipynb#ch0000000vscode-remote?line=5'>6</a>\u001b[0m \u001b[39mdef\u001b[39;00m \u001b[39mare_parallel\u001b[39m(u, v, n):\n\u001b[1;32m      <a href='vscode-notebook-cell://wsl%2Bubuntu-20.04/home/aj/src/cglwn/jax_onenormest/jitting/are_parallel.ipynb#ch0000000vscode-remote?line=6'>7</a>\u001b[0m     dot_prod \u001b[39m=\u001b[39m jnp\u001b[39m.\u001b[39mdot(u, v)\n\u001b[0;32m----> <a href='vscode-notebook-cell://wsl%2Bubuntu-20.04/home/aj/src/cglwn/jax_onenormest/jitting/are_parallel.ipynb#ch0000000vscode-remote?line=7'>8</a>\u001b[0m     \u001b[39mreturn\u001b[39;00m dot_prod \u001b[39min\u001b[39;49;00m [n, \u001b[39m-\u001b[39;49mn]\n",
      "    \u001b[0;31m[... skipping hidden 1 frame]\u001b[0m\n",
      "File \u001b[0;32m~/src/cglwn/jax/jax/core.py:1174\u001b[0m, in \u001b[0;36mconcretization_function_error.<locals>.error\u001b[0;34m(self, arg)\u001b[0m\n\u001b[1;32m   1173\u001b[0m \u001b[39mdef\u001b[39;00m \u001b[39merror\u001b[39m(\u001b[39mself\u001b[39m, arg):\n\u001b[0;32m-> 1174\u001b[0m   \u001b[39mraise\u001b[39;00m ConcretizationTypeError(arg, fname_context)\n",
      "\u001b[0;31mConcretizationTypeError\u001b[0m: Abstract tracer value encountered where concrete value is expected: Traced<ShapedArray(bool[])>with<DynamicJaxprTrace(level=0/1)>\nThe problem arose with the `bool` function. \nWhile tracing the function are_parallel at /tmp/ipykernel_584052/200403503.py:6 for jit, this concrete value was not available in Python because it depends on the values of the argument passed at flattened positions [0, 1].\n\nSee https://jax.readthedocs.io/en/latest/errors.html#jax.errors.ConcretizationTypeError"
     ]
    }
   ],
   "source": [
    "from functools import partial\n",
    "\n",
    "from jax import jit\n",
    "import jax.numpy as jnp\n",
    "\n",
    "def are_parallel(u, v, n):\n",
    "    dot_prod = jnp.dot(u, v)\n",
    "    return dot_prod in [n, -n]\n",
    "\n",
    "if __name__ == \"__main__\":\n",
    "    u = jnp.array([1, 1])\n",
    "    v = jnp.array([1, -1])\n",
    "    jit(are_parallel, static_argnames=(\"n\"))(u, v, 2)"
   ]
  },
  {
   "cell_type": "code",
   "execution_count": 30,
   "metadata": {},
   "outputs": [],
   "source": [
    "u = jnp.array([1, 1])\n",
    "v = jnp.array([1, -1])"
   ]
  },
  {
   "cell_type": "code",
   "execution_count": 35,
   "metadata": {},
   "outputs": [
    {
     "data": {
      "text/plain": [
       "DeviceArray(True, dtype=bool)"
      ]
     },
     "execution_count": 35,
     "metadata": {},
     "output_type": "execute_result"
    }
   ],
   "source": [
    "u = jnp.array([1, 1])\n",
    "v = jnp.array([-1, -1])\n",
    "\n",
    "def pm_1_vecs_are_parallel(u, v, n):\n",
    "    n = u.shape[0]\n",
    "    dot_prod = jnp.dot(u, v)\n",
    "    return jnp.where(dot_prod == n, True, jnp.where(dot_prod == -n, True, False))\n",
    "\n",
    "jit(pm_1_vecs_are_parallel, static_argnames=(\"n\"))(u, v, 2)"
   ]
  },
  {
   "cell_type": "code",
   "execution_count": 16,
   "metadata": {},
   "outputs": [
    {
     "data": {
      "text/plain": [
       "DeviceArray(True, dtype=bool, weak_type=True)"
      ]
     },
     "execution_count": 16,
     "metadata": {},
     "output_type": "execute_result"
    }
   ],
   "source": [
    "def are_perpindicular(u, v):\n",
    "    return jnp.dot(u, v) == 0.0\n",
    "\n",
    "jit(are_perpindicular)(u, v)"
   ]
  }
 ],
 "metadata": {
  "kernelspec": {
   "display_name": "Python 3.8.10 64-bit",
   "language": "python",
   "name": "python3"
  },
  "language_info": {
   "codemirror_mode": {
    "name": "ipython",
    "version": 3
   },
   "file_extension": ".py",
   "mimetype": "text/x-python",
   "name": "python",
   "nbconvert_exporter": "python",
   "pygments_lexer": "ipython3",
   "version": "3.8.10"
  },
  "orig_nbformat": 4,
  "vscode": {
   "interpreter": {
    "hash": "e7370f93d1d0cde622a1f8e1c04877d8463912d04d973331ad4851f04de6915a"
   }
  }
 },
 "nbformat": 4,
 "nbformat_minor": 2
}
